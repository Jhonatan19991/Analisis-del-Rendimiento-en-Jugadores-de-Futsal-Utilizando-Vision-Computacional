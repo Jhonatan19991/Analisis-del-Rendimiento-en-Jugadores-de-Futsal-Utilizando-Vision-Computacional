{
  "cells": [
    {
      "cell_type": "markdown",
      "metadata": {
        "id": "Jvk1ML4wlPzw"
      },
      "source": [
        "# **🎥 Procesamiento de Videos + 🖼️ Aumento de Datos**\n",
        "\n",
        "Este notebook automatiza:\n",
        "\n",
        "1.   📂 Extracción de frames (escala de grises + redimensión).\n",
        "\n",
        "2.   ✨ Aumento de datos (transformaciones aleatorias para entrenar modelos de ML).\n",
        "\n",
        "\n",
        "\n"
      ]
    },
    {
      "cell_type": "code",
      "execution_count": null,
      "metadata": {
        "colab": {
          "base_uri": "https://localhost:8080/"
        },
        "id": "uKGxaLe1SNxj",
        "outputId": "f398090f-d26d-4d3c-aa33-43fb0b58d496"
      },
      "outputs": [],
      "source": [
        "pip install opencv-python albumentations numpy"
      ]
    },
    {
      "cell_type": "markdown",
      "metadata": {
        "id": "HT7NWtmwllOv"
      },
      "source": [
        "## **🔧 Funciones Clave**\n",
        "\n",
        "`extract_frames(video_path, output_folder, resolution=(640, 640))`\n",
        "\n",
        "🚀 Qué hace:\n",
        "\n",
        "\n",
        "*   Extrae todos los frames de un video.\n",
        "\n",
        "*   Convierte a escala de grises (⚫⚪).\n",
        "\n",
        "*   Redimensiona a 640x640 píxeles (configurable).\n",
        "\n",
        "*   Guarda como PNG en una carpeta organizada.\n",
        "\n",
        "📁 Estructura de salida:\n",
        "\n",
        "\n",
        "\n",
        "```\n",
        "frames_extracted/  \n",
        "└── Sample1/  \n",
        "    ├── Sample1_frame_0000.png  \n",
        "    ├── Sample1_frame_0001.png  \n",
        "    └── ...  \n",
        "```\n",
        "\n",
        "---\n",
        "\n",
        "`augment_images(input_folder, output_folder, video_name, num_aug=5)`\n",
        "\n",
        "\n",
        "\n",
        "*   🎲 Transformaciones aplicadas (aleatorias)\n",
        "\n",
        "*   ↔️ Volteo horizontal (50% de probabilidad).\n",
        "\n",
        "*   🔄 Rotación (±15°).\n",
        "\n",
        "*   ☀️ Ajuste de brillo/contraste.\n",
        "\n",
        "*   📸 Desenfoque (Motion Blur y Gaussian Blur).\n",
        "\n",
        "---\n",
        "\n",
        "\n",
        "**✂️ Salida:**\n",
        "\n",
        "\n",
        "Genera 5 imágenes aumentadas por frame (ej: Sample1_frame_0000_aug_0.png).\n",
        "\n",
        "\n",
        "\n",
        "\n"
      ]
    },
    {
      "cell_type": "code",
      "execution_count": null,
      "metadata": {
        "id": "dSvZbywQSVlO"
      },
      "outputs": [],
      "source": [
        "import cv2\n",
        "import os\n",
        "import numpy as np\n",
        "import albumentations as A\n",
        "\n",
        "# Función para extraer frames de un video\n",
        "def extract_frames(video_path, output_folder, resolution=(640, 640)):\n",
        "    video_name = os.path.splitext(os.path.basename(video_path))[0]\n",
        "    if not os.path.exists(output_folder):\n",
        "        os.makedirs(output_folder)\n",
        "\n",
        "    cap = cv2.VideoCapture(video_path)\n",
        "    frame_count = 0\n",
        "    while True:\n",
        "        ret, frame = cap.read()\n",
        "        if not ret:\n",
        "            break\n",
        "        # Convertir a escala de grises\n",
        "        frame_gray = cv2.cvtColor(frame, cv2.COLOR_BGR2GRAY)\n",
        "        # Redimensionar\n",
        "        frame_resized = cv2.resize(frame_gray, resolution)\n",
        "        # Guardar imagen con nombre único\n",
        "        frame_filename = os.path.join(output_folder, f\"{video_name}_frame_{frame_count:04d}.png\")\n",
        "        cv2.imwrite(frame_filename, frame_resized)\n",
        "        frame_count += 1\n",
        "\n",
        "    cap.release()\n",
        "    print(f\"Extraídos {frame_count} frames de {video_path}\")\n",
        "\n",
        "# Función para aplicar data augmentation a las imágenes extraídas\n",
        "def augment_images(input_folder, output_folder, video_name, num_aug=5):\n",
        "    if not os.path.exists(output_folder):\n",
        "        os.makedirs(output_folder)\n",
        "\n",
        "    # Definir el pipeline de augmentación\n",
        "    transform = A.Compose([\n",
        "        A.HorizontalFlip(p=0.5),\n",
        "        A.Rotate(limit=15, p=0.5),\n",
        "        A.RandomBrightnessContrast(p=0.5),\n",
        "        A.MotionBlur(blur_limit=3, p=0.3),\n",
        "        A.GaussianBlur(blur_limit=3, p=0.3),\n",
        "    ])\n",
        "\n",
        "    for img_file in os.listdir(input_folder):\n",
        "        if img_file.lower().endswith(('.png', '.jpg', '.jpeg')):\n",
        "            image_path = os.path.join(input_folder, img_file)\n",
        "            # Leer la imagen en escala de grises\n",
        "            image = cv2.imread(image_path, cv2.IMREAD_GRAYSCALE)\n",
        "            base_name = os.path.splitext(img_file)[0]\n",
        "\n",
        "            for i in range(num_aug):\n",
        "                augmented = transform(image=image)\n",
        "                aug_image = augmented[\"image\"]\n",
        "                aug_filename = os.path.join(output_folder, f\"{base_name}_aug_{i}_{video_name}.png\")\n",
        "                cv2.imwrite(aug_filename, aug_image)\n",
        "    print(f\"Imágenes aumentadas guardadas en {output_folder}\")"
      ]
    },
    {
      "cell_type": "markdown",
      "metadata": {
        "id": "T3AshR7qlzmm"
      },
      "source": [
        "\n",
        "## **⚡ Procesamiento de Videos**\n"
      ]
    },
    {
      "cell_type": "code",
      "execution_count": null,
      "metadata": {
        "colab": {
          "base_uri": "https://localhost:8080/"
        },
        "id": "kH3DgtuHSfi6",
        "outputId": "ee9989aa-3d8f-41bf-c951-591413e7bea2"
      },
      "outputs": [
        {
          "name": "stdout",
          "output_type": "stream",
          "text": [
            "Extraídos 84 frames de Sample1.mp4\n",
            "Extraídos 107 frames de Sample5.mp4\n",
            "Imágenes aumentadas guardadas en frames_augmented/Sample1\n",
            "Imágenes aumentadas guardadas en frames_augmented/Sample5\n"
          ]
        }
      ],
      "source": [
        "# Rutas de los videos\n",
        "video_files = [\"Sample1.mp4\", \"Sample5.mp4\"]\n",
        "\n",
        "# Carpetas para guardar los frames y los frames aumentados\n",
        "frames_folder = \"frames_extracted\"\n",
        "aug_folder = \"frames_augmented\"\n",
        "\n",
        "# Extraer frames de cada video en una carpeta separada\n",
        "for video in video_files:\n",
        "    video_name = os.path.splitext(os.path.basename(video))[0]\n",
        "    output_folder = os.path.join(frames_folder, video_name)\n",
        "    extract_frames(video, output_folder, resolution=(640, 640))\n",
        "\n",
        "# Aplicar data augmentation a los frames extraídos de cada video\n",
        "for video in video_files:\n",
        "    video_name = os.path.splitext(os.path.basename(video))[0]\n",
        "    input_folder = os.path.join(frames_folder, video_name)\n",
        "    output_aug_folder = os.path.join(aug_folder, video_name)\n",
        "    augment_images(input_folder, output_aug_folder, video_name, num_aug=5)\n"
      ]
    },
    {
      "cell_type": "markdown",
      "metadata": {
        "id": "ExvdEbDnmupn"
      },
      "source": [
        "## **📦 Compresión de Resultados**"
      ]
    },
    {
      "cell_type": "code",
      "execution_count": null,
      "metadata": {
        "colab": {
          "base_uri": "https://localhost:8080/"
        },
        "id": "Zvd8KLVGUdqU",
        "outputId": "149f53ae-ce90-45c9-fe1c-6de6f2d25759"
      },
      "outputs": [],
      "source": [
        "!zip -r frames_extracted.zip frames_extracted\n",
        "!zip -r frames_augmented.zip frames_augmented"
      ]
    }
  ],
  "metadata": {
    "colab": {
      "provenance": []
    },
    "kernelspec": {
      "display_name": "Python 3",
      "name": "python3"
    },
    "language_info": {
      "name": "python"
    }
  },
  "nbformat": 4,
  "nbformat_minor": 0
}
